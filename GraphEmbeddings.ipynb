{
  "nbformat": 4,
  "nbformat_minor": 0,
  "metadata": {
    "colab": {
      "provenance": [],
      "include_colab_link": true
    },
    "kernelspec": {
      "name": "python3",
      "display_name": "Python 3"
    },
    "language_info": {
      "name": "python"
    },
    "widgets": {
      "application/vnd.jupyter.widget-state+json": {
        "2648c8fd19664b1d95d08d7886e46be0": {
          "model_module": "@jupyter-widgets/controls",
          "model_name": "HBoxModel",
          "model_module_version": "1.5.0",
          "state": {
            "_dom_classes": [],
            "_model_module": "@jupyter-widgets/controls",
            "_model_module_version": "1.5.0",
            "_model_name": "HBoxModel",
            "_view_count": null,
            "_view_module": "@jupyter-widgets/controls",
            "_view_module_version": "1.5.0",
            "_view_name": "HBoxView",
            "box_style": "",
            "children": [
              "IPY_MODEL_c220512e44c44d7d9b3558e34573898d",
              "IPY_MODEL_146148b976e341bbac084e07050b5842",
              "IPY_MODEL_80da8849ead74921b0b9160063112d06"
            ],
            "layout": "IPY_MODEL_44b8a8702cf84e55917c99d4b900aaa8"
          }
        },
        "c220512e44c44d7d9b3558e34573898d": {
          "model_module": "@jupyter-widgets/controls",
          "model_name": "HTMLModel",
          "model_module_version": "1.5.0",
          "state": {
            "_dom_classes": [],
            "_model_module": "@jupyter-widgets/controls",
            "_model_module_version": "1.5.0",
            "_model_name": "HTMLModel",
            "_view_count": null,
            "_view_module": "@jupyter-widgets/controls",
            "_view_module_version": "1.5.0",
            "_view_name": "HTMLView",
            "description": "",
            "description_tooltip": null,
            "layout": "IPY_MODEL_2fd4a1adea8c41b09fd17ebbd9312072",
            "placeholder": "​",
            "style": "IPY_MODEL_91dd4152933641bba012f827432b69c8",
            "value": "Computing transition probabilities: 100%"
          }
        },
        "146148b976e341bbac084e07050b5842": {
          "model_module": "@jupyter-widgets/controls",
          "model_name": "FloatProgressModel",
          "model_module_version": "1.5.0",
          "state": {
            "_dom_classes": [],
            "_model_module": "@jupyter-widgets/controls",
            "_model_module_version": "1.5.0",
            "_model_name": "FloatProgressModel",
            "_view_count": null,
            "_view_module": "@jupyter-widgets/controls",
            "_view_module_version": "1.5.0",
            "_view_name": "ProgressView",
            "bar_style": "success",
            "description": "",
            "description_tooltip": null,
            "layout": "IPY_MODEL_b1ef5c4b9c404c7ea7132f7d57f8ad7a",
            "max": 34,
            "min": 0,
            "orientation": "horizontal",
            "style": "IPY_MODEL_b07b345ca7a94df8ba4d257a14a0d7f6",
            "value": 34
          }
        },
        "80da8849ead74921b0b9160063112d06": {
          "model_module": "@jupyter-widgets/controls",
          "model_name": "HTMLModel",
          "model_module_version": "1.5.0",
          "state": {
            "_dom_classes": [],
            "_model_module": "@jupyter-widgets/controls",
            "_model_module_version": "1.5.0",
            "_model_name": "HTMLModel",
            "_view_count": null,
            "_view_module": "@jupyter-widgets/controls",
            "_view_module_version": "1.5.0",
            "_view_name": "HTMLView",
            "description": "",
            "description_tooltip": null,
            "layout": "IPY_MODEL_892c888e405e497781582465c468ad0c",
            "placeholder": "​",
            "style": "IPY_MODEL_89d80320598547cd990180c81ae77eaa",
            "value": " 34/34 [00:00&lt;00:00, 1068.96it/s]"
          }
        },
        "44b8a8702cf84e55917c99d4b900aaa8": {
          "model_module": "@jupyter-widgets/base",
          "model_name": "LayoutModel",
          "model_module_version": "1.2.0",
          "state": {
            "_model_module": "@jupyter-widgets/base",
            "_model_module_version": "1.2.0",
            "_model_name": "LayoutModel",
            "_view_count": null,
            "_view_module": "@jupyter-widgets/base",
            "_view_module_version": "1.2.0",
            "_view_name": "LayoutView",
            "align_content": null,
            "align_items": null,
            "align_self": null,
            "border": null,
            "bottom": null,
            "display": null,
            "flex": null,
            "flex_flow": null,
            "grid_area": null,
            "grid_auto_columns": null,
            "grid_auto_flow": null,
            "grid_auto_rows": null,
            "grid_column": null,
            "grid_gap": null,
            "grid_row": null,
            "grid_template_areas": null,
            "grid_template_columns": null,
            "grid_template_rows": null,
            "height": null,
            "justify_content": null,
            "justify_items": null,
            "left": null,
            "margin": null,
            "max_height": null,
            "max_width": null,
            "min_height": null,
            "min_width": null,
            "object_fit": null,
            "object_position": null,
            "order": null,
            "overflow": null,
            "overflow_x": null,
            "overflow_y": null,
            "padding": null,
            "right": null,
            "top": null,
            "visibility": null,
            "width": null
          }
        },
        "2fd4a1adea8c41b09fd17ebbd9312072": {
          "model_module": "@jupyter-widgets/base",
          "model_name": "LayoutModel",
          "model_module_version": "1.2.0",
          "state": {
            "_model_module": "@jupyter-widgets/base",
            "_model_module_version": "1.2.0",
            "_model_name": "LayoutModel",
            "_view_count": null,
            "_view_module": "@jupyter-widgets/base",
            "_view_module_version": "1.2.0",
            "_view_name": "LayoutView",
            "align_content": null,
            "align_items": null,
            "align_self": null,
            "border": null,
            "bottom": null,
            "display": null,
            "flex": null,
            "flex_flow": null,
            "grid_area": null,
            "grid_auto_columns": null,
            "grid_auto_flow": null,
            "grid_auto_rows": null,
            "grid_column": null,
            "grid_gap": null,
            "grid_row": null,
            "grid_template_areas": null,
            "grid_template_columns": null,
            "grid_template_rows": null,
            "height": null,
            "justify_content": null,
            "justify_items": null,
            "left": null,
            "margin": null,
            "max_height": null,
            "max_width": null,
            "min_height": null,
            "min_width": null,
            "object_fit": null,
            "object_position": null,
            "order": null,
            "overflow": null,
            "overflow_x": null,
            "overflow_y": null,
            "padding": null,
            "right": null,
            "top": null,
            "visibility": null,
            "width": null
          }
        },
        "91dd4152933641bba012f827432b69c8": {
          "model_module": "@jupyter-widgets/controls",
          "model_name": "DescriptionStyleModel",
          "model_module_version": "1.5.0",
          "state": {
            "_model_module": "@jupyter-widgets/controls",
            "_model_module_version": "1.5.0",
            "_model_name": "DescriptionStyleModel",
            "_view_count": null,
            "_view_module": "@jupyter-widgets/base",
            "_view_module_version": "1.2.0",
            "_view_name": "StyleView",
            "description_width": ""
          }
        },
        "b1ef5c4b9c404c7ea7132f7d57f8ad7a": {
          "model_module": "@jupyter-widgets/base",
          "model_name": "LayoutModel",
          "model_module_version": "1.2.0",
          "state": {
            "_model_module": "@jupyter-widgets/base",
            "_model_module_version": "1.2.0",
            "_model_name": "LayoutModel",
            "_view_count": null,
            "_view_module": "@jupyter-widgets/base",
            "_view_module_version": "1.2.0",
            "_view_name": "LayoutView",
            "align_content": null,
            "align_items": null,
            "align_self": null,
            "border": null,
            "bottom": null,
            "display": null,
            "flex": null,
            "flex_flow": null,
            "grid_area": null,
            "grid_auto_columns": null,
            "grid_auto_flow": null,
            "grid_auto_rows": null,
            "grid_column": null,
            "grid_gap": null,
            "grid_row": null,
            "grid_template_areas": null,
            "grid_template_columns": null,
            "grid_template_rows": null,
            "height": null,
            "justify_content": null,
            "justify_items": null,
            "left": null,
            "margin": null,
            "max_height": null,
            "max_width": null,
            "min_height": null,
            "min_width": null,
            "object_fit": null,
            "object_position": null,
            "order": null,
            "overflow": null,
            "overflow_x": null,
            "overflow_y": null,
            "padding": null,
            "right": null,
            "top": null,
            "visibility": null,
            "width": null
          }
        },
        "b07b345ca7a94df8ba4d257a14a0d7f6": {
          "model_module": "@jupyter-widgets/controls",
          "model_name": "ProgressStyleModel",
          "model_module_version": "1.5.0",
          "state": {
            "_model_module": "@jupyter-widgets/controls",
            "_model_module_version": "1.5.0",
            "_model_name": "ProgressStyleModel",
            "_view_count": null,
            "_view_module": "@jupyter-widgets/base",
            "_view_module_version": "1.2.0",
            "_view_name": "StyleView",
            "bar_color": null,
            "description_width": ""
          }
        },
        "892c888e405e497781582465c468ad0c": {
          "model_module": "@jupyter-widgets/base",
          "model_name": "LayoutModel",
          "model_module_version": "1.2.0",
          "state": {
            "_model_module": "@jupyter-widgets/base",
            "_model_module_version": "1.2.0",
            "_model_name": "LayoutModel",
            "_view_count": null,
            "_view_module": "@jupyter-widgets/base",
            "_view_module_version": "1.2.0",
            "_view_name": "LayoutView",
            "align_content": null,
            "align_items": null,
            "align_self": null,
            "border": null,
            "bottom": null,
            "display": null,
            "flex": null,
            "flex_flow": null,
            "grid_area": null,
            "grid_auto_columns": null,
            "grid_auto_flow": null,
            "grid_auto_rows": null,
            "grid_column": null,
            "grid_gap": null,
            "grid_row": null,
            "grid_template_areas": null,
            "grid_template_columns": null,
            "grid_template_rows": null,
            "height": null,
            "justify_content": null,
            "justify_items": null,
            "left": null,
            "margin": null,
            "max_height": null,
            "max_width": null,
            "min_height": null,
            "min_width": null,
            "object_fit": null,
            "object_position": null,
            "order": null,
            "overflow": null,
            "overflow_x": null,
            "overflow_y": null,
            "padding": null,
            "right": null,
            "top": null,
            "visibility": null,
            "width": null
          }
        },
        "89d80320598547cd990180c81ae77eaa": {
          "model_module": "@jupyter-widgets/controls",
          "model_name": "DescriptionStyleModel",
          "model_module_version": "1.5.0",
          "state": {
            "_model_module": "@jupyter-widgets/controls",
            "_model_module_version": "1.5.0",
            "_model_name": "DescriptionStyleModel",
            "_view_count": null,
            "_view_module": "@jupyter-widgets/base",
            "_view_module_version": "1.2.0",
            "_view_name": "StyleView",
            "description_width": ""
          }
        }
      }
    }
  },
  "cells": [
    {
      "cell_type": "markdown",
      "metadata": {
        "id": "view-in-github",
        "colab_type": "text"
      },
      "source": [
        "<a href=\"https://colab.research.google.com/github/eouai/GraphML/blob/main/GraphEmbeddings.ipynb\" target=\"_parent\"><img src=\"https://colab.research.google.com/assets/colab-badge.svg\" alt=\"Open In Colab\"/></a>"
      ]
    },
    {
      "cell_type": "markdown",
      "source": [
        "# Basic Node2Vec  and Embeddings\n"
      ],
      "metadata": {
        "id": "sLG5PA8afQ82"
      }
    },
    {
      "cell_type": "markdown",
      "source": [
        "<a href=\"https://colab.research.google.com/github/joerg84/Graph_Powered_ML_Workshop/blob/master/Node2VecIntro.ipynb\" target=\"_parent\"><img src=\"https://colab.research.google.com/assets/colab-badge.svg\" alt=\"Open In Colab\"/></a>"
      ],
      "metadata": {
        "id": "2Op9SLvjfINw"
      }
    },
    {
      "cell_type": "markdown",
      "source": [
        "In this notebook we will explore a basic example using our favorite Karate Club Graph and Node2Vec.\n",
        "\n"
      ],
      "metadata": {
        "id": "2MDNGkpabLvt"
      }
    },
    {
      "cell_type": "code",
      "source": [
        "%%capture\n",
        "!pip3 install  node2vec"
      ],
      "metadata": {
        "id": "517q8Lj_Wp6p"
      },
      "execution_count": null,
      "outputs": []
    },
    {
      "cell_type": "code",
      "source": [
        "import networkx as nx\n",
        "import pandas as pd\n",
        "from node2vec import Node2Vec as n2v"
      ],
      "metadata": {
        "id": "_fWhE_Fzaz-m"
      },
      "execution_count": null,
      "outputs": []
    },
    {
      "cell_type": "code",
      "source": [
        "# Load the Zachary's Karate Club as a NetworkX Graph object\n",
        "KCG = nx.karate_club_graph()\n",
        "\n",
        "print(KCG.nodes[1])\n",
        "print(KCG.nodes[33])\n",
        "\n",
        "# print final assignments\n",
        "#for node in KCG.nodes:\n",
        "#  print(str(node+1)+\",\" + str(KCG.nodes[node]['club']))\n",
        "\n",
        "nx.draw(KCG, with_labels=True, font_weight='bold')"
      ],
      "metadata": {
        "id": "ozOPGBryUEcf"
      },
      "execution_count": null,
      "outputs": []
    },
    {
      "cell_type": "markdown",
      "source": [
        "Next, let us run Node2Vec to create embeddings."
      ],
      "metadata": {
        "id": "fgYRDxwhbU7r"
      }
    },
    {
      "cell_type": "code",
      "source": [
        "# Generate Random walks\n",
        "g_emb = n2v(KCG, dimensions=2)\n",
        "WINDOW = 1 # Node2Vec fit window\n",
        "MIN_COUNT = 1 # Node2Vec min. count\n",
        "BATCH_WORDS = 4 # Node2Vec batch words\n",
        "\n",
        "# Fit model\n",
        "model = g_emb.fit(\n",
        "    vector_size = 2,\n",
        "    window=WINDOW,\n",
        "    min_count=MIN_COUNT,\n",
        "    batch_words=BATCH_WORDS\n",
        ")"
      ],
      "metadata": {
        "id": "QQ6OAWpDS46I",
        "colab": {
          "base_uri": "https://localhost:8080/",
          "height": 66,
          "referenced_widgets": [
            "2648c8fd19664b1d95d08d7886e46be0",
            "c220512e44c44d7d9b3558e34573898d",
            "146148b976e341bbac084e07050b5842",
            "80da8849ead74921b0b9160063112d06",
            "44b8a8702cf84e55917c99d4b900aaa8",
            "2fd4a1adea8c41b09fd17ebbd9312072",
            "91dd4152933641bba012f827432b69c8",
            "b1ef5c4b9c404c7ea7132f7d57f8ad7a",
            "b07b345ca7a94df8ba4d257a14a0d7f6",
            "892c888e405e497781582465c468ad0c",
            "89d80320598547cd990180c81ae77eaa"
          ]
        },
        "outputId": "a99760ce-21b9-4ad1-a25e-e0149cc5ec94"
      },
      "execution_count": null,
      "outputs": [
        {
          "output_type": "display_data",
          "data": {
            "text/plain": [
              "Computing transition probabilities:   0%|          | 0/34 [00:00<?, ?it/s]"
            ],
            "application/vnd.jupyter.widget-view+json": {
              "version_major": 2,
              "version_minor": 0,
              "model_id": "2648c8fd19664b1d95d08d7886e46be0"
            }
          },
          "metadata": {}
        },
        {
          "output_type": "stream",
          "name": "stderr",
          "text": [
            "Generating walks (CPU: 1): 100%|██████████| 10/10 [00:00<00:00, 73.24it/s]\n"
          ]
        }
      ]
    },
    {
      "cell_type": "markdown",
      "source": [
        "Let us find similar members/nodes:"
      ],
      "metadata": {
        "id": "up7h_GkNcAd1"
      }
    },
    {
      "cell_type": "code",
      "source": [
        "input_node = '1'\n",
        "for s in model.wv.most_similar(input_node, topn = 10):\n",
        "    print(s)"
      ],
      "metadata": {
        "id": "fl5-q1bmcG29",
        "colab": {
          "base_uri": "https://localhost:8080/"
        },
        "outputId": "ebbf3478-c5e4-4d10-f7fe-942bd05707e0"
      },
      "execution_count": null,
      "outputs": [
        {
          "output_type": "stream",
          "name": "stdout",
          "text": [
            "('3', 0.9999979734420776)\n",
            "('7', 0.9994000196456909)\n",
            "('21', 0.9970986247062683)\n",
            "('19', 0.9946516156196594)\n",
            "('17', 0.9941343665122986)\n",
            "('12', 0.9931171536445618)\n",
            "('11', 0.990408718585968)\n",
            "('0', 0.9901020526885986)\n",
            "('13', 0.9838855266571045)\n",
            "('2', 0.9716970920562744)\n"
          ]
        }
      ]
    },
    {
      "cell_type": "markdown",
      "source": [
        "Let us combine the embedding with the actual club name after the split."
      ],
      "metadata": {
        "id": "kYAyE9dVbKIC"
      }
    },
    {
      "cell_type": "code",
      "source": [
        "embeddings = []\n",
        "for node in KCG.nodes:\n",
        "  embedding = list(model.wv.get_vector(str(node)))\n",
        "  club = KCG.nodes[node]['club']\n",
        "  embeddings.append(embedding + [club])\n",
        "\n",
        "df = pd.DataFrame(embeddings, columns=['x', 'y', 'club'])\n",
        "print(df)"
      ],
      "metadata": {
        "id": "UD86eLHgY6_t",
        "colab": {
          "base_uri": "https://localhost:8080/"
        },
        "outputId": "d4721f1e-e6a2-4df1-9e2b-6d3f9804f5ac"
      },
      "execution_count": null,
      "outputs": [
        {
          "output_type": "stream",
          "name": "stdout",
          "text": [
            "           x         y     club\n",
            "0  -0.099800  1.508025   Mr. Hi\n",
            "1  -0.263341  1.254599   Mr. Hi\n",
            "2  -0.483147  1.012099   Mr. Hi\n",
            "3  -0.265597  1.278335   Mr. Hi\n",
            "4   0.206034  2.051667   Mr. Hi\n",
            "5   0.356359  2.426596   Mr. Hi\n",
            "6   0.370813  2.343691   Mr. Hi\n",
            "7  -0.293011  1.189405   Mr. Hi\n",
            "8  -0.801963  0.775659   Mr. Hi\n",
            "9  -1.087682  0.650888  Officer\n",
            "10  0.343252  2.358052   Mr. Hi\n",
            "11 -0.099590  1.456186   Mr. Hi\n",
            "12 -0.129414  1.442079   Mr. Hi\n",
            "13 -0.431730  1.060347   Mr. Hi\n",
            "14 -1.614658  0.434806  Officer\n",
            "15 -1.448942  0.483744  Officer\n",
            "16  0.402373  2.506666   Mr. Hi\n",
            "17 -0.138683  1.402914   Mr. Hi\n",
            "18 -1.448128  0.502102  Officer\n",
            "19 -0.364710  1.137110   Mr. Hi\n",
            "20 -1.589963  0.460195  Officer\n",
            "21 -0.181872  1.383553   Mr. Hi\n",
            "22 -1.613955  0.448825  Officer\n",
            "23 -1.746511  0.430239  Officer\n",
            "24 -1.899190  0.372463  Officer\n",
            "25 -1.885608  0.381966  Officer\n",
            "26 -1.923214  0.363703  Officer\n",
            "27 -1.499502  0.461271  Officer\n",
            "28 -1.025097  0.642554  Officer\n",
            "29 -1.983379  0.390498  Officer\n",
            "30 -0.982226  0.680926  Officer\n",
            "31 -1.442250  0.490588  Officer\n",
            "32 -1.450039  0.510236  Officer\n",
            "33 -1.512928  0.487202  Officer\n"
          ]
        }
      ]
    },
    {
      "cell_type": "markdown",
      "source": [
        "Let us print the embedded nodes together with the color of the actual resulting club."
      ],
      "metadata": {
        "id": "tlDWebvYenZB"
      }
    },
    {
      "cell_type": "code",
      "source": [
        "colors = ['red' if x == 'Mr. Hi' else 'blue' for x in df.club]\n",
        "df.plot.scatter(x='x', y='y', s=50, c=colors)"
      ],
      "metadata": {
        "id": "eVLmhXb-aadJ",
        "colab": {
          "base_uri": "https://localhost:8080/",
          "height": 466
        },
        "outputId": "54362056-f1b4-4824-e8b0-225762336a10"
      },
      "execution_count": null,
      "outputs": [
        {
          "output_type": "execute_result",
          "data": {
            "text/plain": [
              "<Axes: xlabel='x', ylabel='y'>"
            ]
          },
          "metadata": {},
          "execution_count": 7
        },
        {
          "output_type": "display_data",
          "data": {
            "text/plain": [
              "<Figure size 640x480 with 1 Axes>"
            ],
            "image/png": "[encoded data removed]"
          },
          "metadata": {}
        }
      ]
    },
    {
      "cell_type": "markdown",
      "source": [
        "# Bonus:  Dimensionality Reduction"
      ],
      "metadata": {
        "id": "YyVKd9YucOzB"
      }
    },
    {
      "cell_type": "markdown",
      "source": [
        "Normally, we want embeddings dimensions greater than two. Unfortunately, high dimensional spaces are ... hard to visualize. Luckily we have tools such as [TSNE](https://scikit-learn.org/stable/modules/generated/sklearn.manifold.TSNE.html) or [UMAP](https://umap-learn.readthedocs.io/en/latest/basic_usage.html) to reduce dimensionality."
      ],
      "metadata": {
        "id": "C9o6Z-kRdAzB"
      }
    },
    {
      "cell_type": "code",
      "source": [
        "import numpy as np\n",
        "from sklearn.manifold import TSNE"
      ],
      "metadata": {
        "id": "3n3H-2WyctT5"
      },
      "execution_count": null,
      "outputs": []
    },
    {
      "cell_type": "code",
      "source": [
        "X = np.array([[0, 0, 0], [0, 1, 1], [1, 0, 1], [1, 1, 1]])\n",
        "X_embedded = TSNE(n_components=2, learning_rate='auto',\n",
        "             init='random', perplexity=3).fit_transform(X)\n",
        "X_embedded.shape"
      ],
      "metadata": {
        "id": "s1MI-epfclar"
      },
      "execution_count": null,
      "outputs": []
    }
  ]
}